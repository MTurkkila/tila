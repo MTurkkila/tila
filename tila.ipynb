{
 "cells": [
  {
   "cell_type": "markdown",
   "metadata": {},
   "source": [
    "# Testi tieteellinen laskenta pyhtonilla\n",
    "\n",
    "* ainakin ihan perusperusteet, printtaus ja laskutoiminnot, muuta asiat (loopit ja ehtolauseet) voisi olla omassa erillisessä notebookissa\n",
    "* modulit, lähinnä koska tarvitaan, hyvä käytäntö ladata heti\n",
    "* jokin laaja datasetti, esim. päivittäiset sademäärät ja lämpötilat viimevuodelta, csv\n",
    "* selite, että monta riviä dataa, ei voi tai ei ainakaan kannata laskea käsin\n",
    "* datasetistä voisi laskea kokonaismäärän ja keskiarvon\n",
    "* sademäärän ja lämpötilan kuvaaja matplotlibillä\n"
   ]
  },
  {
   "cell_type": "markdown",
   "metadata": {},
   "source": [
    "### Notebookiisa soluja voi ajaa eli suorittää sen sisältämät komennot valitsemalla solun ja painamalla control+enter\n",
    "\n",
    "* kokeile alla olevassa solussa, joka printtaa tekstin _Hei maailma!_"
   ]
  },
  {
   "cell_type": "code",
   "execution_count": null,
   "metadata": {},
   "outputs": [],
   "source": [
    "print(\"Hei maailma!\")"
   ]
  },
  {
   "cell_type": "markdown",
   "metadata": {},
   "source": [
    "### Muuttujat\n",
    "\n",
    "* muuttujaan voidaan tallentaa juttuja. Jutut voivat olla numeroita, tekstinpätkiä tai jotain muuta.\n",
    "* Seuraavassa solussa luodaan muuttuja m, johon tallennetaan luku 5\n",
    "* Aja myös muut solut ja katso mitä muuttujalle m tapahtuu"
   ]
  },
  {
   "cell_type": "code",
   "execution_count": null,
   "metadata": {},
   "outputs": [],
   "source": [
    "m = 5\n",
    "print(m)"
   ]
  },
  {
   "cell_type": "code",
   "execution_count": null,
   "metadata": {},
   "outputs": [],
   "source": [
    "n = m+2\n",
    "print(n)"
   ]
  },
  {
   "cell_type": "code",
   "execution_count": null,
   "metadata": {},
   "outputs": [],
   "source": [
    "print(m)"
   ]
  },
  {
   "cell_type": "code",
   "execution_count": null,
   "metadata": {},
   "outputs": [],
   "source": [
    "m=n\n",
    "print(m)"
   ]
  }
 ],
 "metadata": {
  "kernelspec": {
   "display_name": "Python 3",
   "language": "python",
   "name": "python3"
  },
  "language_info": {
   "codemirror_mode": {
    "name": "ipython",
    "version": 3
   },
   "file_extension": ".py",
   "mimetype": "text/x-python",
   "name": "python",
   "nbconvert_exporter": "python",
   "pygments_lexer": "ipython3",
   "version": "3.6.5"
  }
 },
 "nbformat": 4,
 "nbformat_minor": 2
}
